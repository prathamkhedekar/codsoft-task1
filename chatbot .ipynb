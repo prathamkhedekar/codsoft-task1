{
 "cells": [
  {
   "cell_type": "code",
   "execution_count": 1,
   "id": "bc891552-db58-4908-8626-9c67c31c6870",
   "metadata": {},
   "outputs": [
    {
     "name": "stderr",
     "output_type": "stream",
     "text": [
      "[nltk_data] Downloading package omw-1.4 to\n",
      "[nltk_data]     C:\\Users\\admin\\AppData\\Roaming\\nltk_data...\n",
      "[nltk_data] Downloading package punkt to\n",
      "[nltk_data]     C:\\Users\\admin\\AppData\\Roaming\\nltk_data...\n",
      "[nltk_data]   Unzipping tokenizers\\punkt.zip.\n",
      "[nltk_data] Downloading package wordnet to\n",
      "[nltk_data]     C:\\Users\\admin\\AppData\\Roaming\\nltk_data...\n"
     ]
    },
    {
     "data": {
      "text/plain": [
       "True"
      ]
     },
     "execution_count": 1,
     "metadata": {},
     "output_type": "execute_result"
    }
   ],
   "source": [
    "# Importing the required libraries\n",
    "import numpy as np\n",
    "import nltk\n",
    "import re\n",
    "nltk.download('omw-1.4')\n",
    "import string\n",
    "import random\n",
    "from nltk.corpus import wordnet\n",
    "\n",
    "# importing and reading corpus\n",
    "#f = open(r'../input/chatbot/ChatBot.txt', errors='ignore')\n",
    "#raw_doc = f.read()\n",
    "#raw_doc = raw_doc.lower() #converts text to lower case\n",
    "nltk.download('punkt') #Using the Punkt tokenizer\n",
    "nltk.download('wordnet') #using the wordnet dictionary\n",
    "#sent_tokens = nltk.sent_tokenize(raw_doc) #converts doc into list of sentences\n",
    "#word_tokens = nltk.word_tokenize(raw_doc) #converts doc into list of words"
   ]
  },
  {
   "cell_type": "code",
   "execution_count": 2,
   "id": "d9989368-373d-4376-ae3f-9d3b32e8f0c8",
   "metadata": {},
   "outputs": [
    {
     "name": "stdout",
     "output_type": "stream",
     "text": [
      "{'hello': {'hi', 'how do you do', 'howdy', 'hello', 'hullo'}, 'timings': {'timing', 'clock', 'time'}}\n"
     ]
    }
   ],
   "source": [
    "# Building a list of Keywords\n",
    "list_words=['hello','timings']\n",
    "list_syn={}\n",
    "for word in list_words:\n",
    "    synonyms=[]\n",
    "    for syn in wordnet.synsets(word):\n",
    "        for lem in syn.lemmas():\n",
    "            # Remove any special characters from synonym strings\n",
    "            lem_name = re.sub('[^a-zA-Z0-9 \\n\\.]', ' ', lem.name())\n",
    "            synonyms.append(lem_name)\n",
    "    list_syn[word]=set(synonyms)\n",
    "print (list_syn)"
   ]
  },
  {
   "cell_type": "code",
   "execution_count": 3,
   "id": "2413b453-3f28-4171-b2c0-5beb2f190a61",
   "metadata": {},
   "outputs": [
    {
     "name": "stdout",
     "output_type": "stream",
     "text": [
      "{'greet': re.compile('.*\\\\bhi\\\\b.*|.*\\\\bhow do you do\\\\b.*|.*\\\\bhowdy\\\\b.*|.*\\\\bhello\\\\b.*|.*\\\\bhullo\\\\b.*'), 'timings': re.compile('.*\\\\btiming\\\\b.*|.*\\\\bclock\\\\b.*|.*\\\\btime\\\\b.*')}\n"
     ]
    }
   ],
   "source": [
    "# Building dictionary of Intents & Keywords\n",
    "keywords={}\n",
    "keywords_dict={}\n",
    "# Defining a new key in the keywords dictionary\n",
    "keywords['greet']=[]\n",
    "# Populating the values in the keywords dictionary with synonyms of keywords formatted with RegEx metacharacters \n",
    "for synonym in list(list_syn['hello']):\n",
    "    keywords['greet'].append('.*\\\\b'+synonym+'\\\\b.*')\n",
    "\n",
    "# Defining a new key in the keywords dictionary\n",
    "keywords['timings']=[]\n",
    "# Populating the values in the keywords dictionary with synonyms of keywords formatted with RegEx metacharacters \n",
    "for synonym in list(list_syn['timings']):\n",
    "    keywords['timings'].append('.*\\\\b'+synonym+'\\\\b.*')\n",
    "for intent, keys in keywords.items():\n",
    "    # Joining the values in the keywords dictionary with the OR (|) operator updating them in keywords_dict dictionary\n",
    "    keywords_dict[intent]=re.compile('|'.join(keys))\n",
    "print (keywords_dict)"
   ]
  },
  {
   "cell_type": "code",
   "execution_count": 4,
   "id": "b05af398-7fad-4b5c-9fd6-905512af2ef7",
   "metadata": {},
   "outputs": [],
   "source": [
    "# Building a dictionary of responses\n",
    "responses={\n",
    "    'greet':'Hello! How can I help you?',\n",
    "    'timings':'This is a simple chatbot project.',\n",
    "    'fallback':'I dont quite understand. Could you repeat that?',\n",
    "}"
   ]
  },
  {
   "cell_type": "code",
   "execution_count": 5,
   "id": "2d78928e-ef76-492c-a941-2fc89d1e1ace",
   "metadata": {},
   "outputs": [
    {
     "data": {
      "text/plain": [
       "'\\nprint (\"Hello, how can i help you.  (if you would like to leave the conversation, type in \\'quit\\')\")\\n# While loop to run the chatbot indefinetely\\nwhile (True):  \\n    # Takes the user input and converts all characters to lowercase\\n    user_input = input().lower()\\n    # Defining the Chatbot\\'s exit condition\\n    if user_input == \\'quit\\': \\n        print (\"Thank you for testing my simple chatbot.\")\\n        break    \\n    matched_intent = None \\n    for intent,pattern in keywords_dict.items():\\n        # Using the regular expression search function to look for keywords in user input\\n        if re.search(pattern, user_input): \\n            # if a keyword matches, select the corresponding intent from the keywords_dict dictionary\\n            matched_intent=intent  \\n    # The fallback intent is selected by default\\n    key=\\'fallback\\' \\n    if matched_intent in responses:\\n        # If a keyword matches, the fallback intent is replaced by the matched intent as the key for the responses dictionary\\n        key = matched_intent\\n    # The chatbot prints the response that matches the selected intent\\n    #print (responses[key])\\n    '"
      ]
     },
     "execution_count": 5,
     "metadata": {},
     "output_type": "execute_result"
    }
   ],
   "source": [
    "\"\"\"\n",
    "print (\"Hello, how can i help you.  (if you would like to leave the conversation, type in 'quit')\")\n",
    "# While loop to run the chatbot indefinetely\n",
    "while (True):  \n",
    "    # Takes the user input and converts all characters to lowercase\n",
    "    user_input = input().lower()\n",
    "    # Defining the Chatbot's exit condition\n",
    "    if user_input == 'quit': \n",
    "        print (\"Thank you for testing my simple chatbot.\")\n",
    "        break    \n",
    "    matched_intent = None \n",
    "    for intent,pattern in keywords_dict.items():\n",
    "        # Using the regular expression search function to look for keywords in user input\n",
    "        if re.search(pattern, user_input): \n",
    "            # if a keyword matches, select the corresponding intent from the keywords_dict dictionary\n",
    "            matched_intent=intent  \n",
    "    # The fallback intent is selected by default\n",
    "    key='fallback' \n",
    "    if matched_intent in responses:\n",
    "        # If a keyword matches, the fallback intent is replaced by the matched intent as the key for the responses dictionary\n",
    "        key = matched_intent\n",
    "    # The chatbot prints the response that matches the selected intent\n",
    "    #print (responses[key])\n",
    "    \"\"\""
   ]
  },
  {
   "cell_type": "code",
   "execution_count": null,
   "id": "e528bc7c-f2fe-4a26-ba39-5bd269544780",
   "metadata": {},
   "outputs": [],
   "source": []
  }
 ],
 "metadata": {
  "kernelspec": {
   "display_name": "Python 3 (ipykernel)",
   "language": "python",
   "name": "python3"
  },
  "language_info": {
   "codemirror_mode": {
    "name": "ipython",
    "version": 3
   },
   "file_extension": ".py",
   "mimetype": "text/x-python",
   "name": "python",
   "nbconvert_exporter": "python",
   "pygments_lexer": "ipython3",
   "version": "3.11.7"
  }
 },
 "nbformat": 4,
 "nbformat_minor": 5
}
